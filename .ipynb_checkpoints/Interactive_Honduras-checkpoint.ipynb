{
 "cells": [
  {
   "cell_type": "code",
   "execution_count": 7,
   "id": "c9c53111-9a84-43a6-bd91-f4424837a2ec",
   "metadata": {},
   "outputs": [
    {
     "data": {
      "application/vnd.jupyter.widget-view+json": {
       "model_id": "50c74a2531a54d12b504f1466c698039",
       "version_major": 2,
       "version_minor": 0
      },
      "text/plain": [
       "VBox(children=(FloatSlider(value=0.25, description='RUSLE A', max=1.0, step=0.05), FloatSlider(value=0.25, des…"
      ]
     },
     "metadata": {},
     "output_type": "display_data"
    },
    {
     "data": {
      "application/vnd.jupyter.widget-view+json": {
       "model_id": "65e706ba5557477e9212ad3b953c1248",
       "version_major": 2,
       "version_minor": 0
      },
      "text/plain": [
       "Output()"
      ]
     },
     "metadata": {},
     "output_type": "display_data"
    }
   ],
   "source": [
    "import geopandas as gpd\n",
    "import ipywidgets as widgets\n",
    "from IPython.display import display\n",
    "import matplotlib.pyplot as plt\n",
    "from sklearn.preprocessing import MinMaxScaler\n",
    "\n",
    "# --- Load data ---\n",
    "watersheds = gpd.read_file(\"src/pucas_layers.gpkg\", layer=\"watersheds\")\n",
    "nucleo = gpd.read_file(\"src/pucas_layers.gpkg\", layer=\"nucleo\")\n",
    "buffer = gpd.read_file(\"src/pucas_layers.gpkg\", layer=\"buffer\")\n",
    "\n",
    "# --- Normalize necessary columns ---\n",
    "scaler = MinMaxScaler()\n",
    "\n",
    "if 'forest_frac' not in watersheds.columns:\n",
    "    watersheds['forest_frac'] = watersheds['forest_pct'] / 100.0\n",
    "\n",
    "# Normalize all columns we will use\n",
    "norm_cols = {\n",
    "    'norm_rusle_a': 'rusle_a',\n",
    "    'norm_area_nucleo': 'area_nucleo',\n",
    "    'norm_area_buffer': 'area_buffer',\n",
    "    'norm_forest_frac': 'forest_frac'\n",
    "}\n",
    "for norm_col, raw_col in norm_cols.items():\n",
    "    if norm_col not in watersheds.columns:\n",
    "        watersheds[norm_col] = scaler.fit_transform(watersheds[[raw_col]])\n",
    "\n",
    "# --- Sliders for weights ---\n",
    "w_a = widgets.FloatSlider(value=0.25, min=0, max=1, step=0.05, description='RUSLE A')\n",
    "w_nucleo = widgets.FloatSlider(value=0.25, min=0, max=1, step=0.05, description='Nucleo')\n",
    "w_buffer = widgets.FloatSlider(value=0.25, min=0, max=1, step=0.05, description='Buffer')\n",
    "w_forest = widgets.FloatSlider(value=0.25, min=0, max=1, step=0.05, description='Forest Cover')\n",
    "\n",
    "# --- Update function ---\n",
    "def update_priority(w_a_val, w_nucleo_val, w_buffer_val, w_forest_val):\n",
    "    total = w_a_val + w_nucleo_val + w_buffer_val + w_forest_val\n",
    "    if total == 0:\n",
    "        return\n",
    "\n",
    "    watersheds['priority_score'] = (\n",
    "        watersheds['norm_rusle_a'] * w_a_val +\n",
    "        watersheds['norm_area_nucleo'] * w_nucleo_val +\n",
    "        watersheds['norm_area_buffer'] * w_buffer_val +\n",
    "        watersheds['norm_forest_frac'] * w_forest_val\n",
    "    ) / total\n",
    "\n",
    "    fig, ax = plt.subplots(figsize=(10, 8))\n",
    "    watersheds.plot(\n",
    "        column='priority_score', cmap='plasma', legend=True,\n",
    "        ax=ax, edgecolor='black', linewidth=0.5\n",
    "    )\n",
    "    nucleo.boundary.plot(ax=ax, edgecolor='red', linewidth=1, label='Nucleo')\n",
    "    buffer.boundary.plot(ax=ax, edgecolor='blue', linestyle='--', linewidth=1, label='Buffer')\n",
    "    plt.title(\"Watershed Priority Score\")\n",
    "    plt.legend()\n",
    "    plt.axis('off')\n",
    "    plt.tight_layout()\n",
    "    plt.show()\n",
    "\n",
    "# --- Layout and interactivity ---\n",
    "ui = widgets.VBox([w_a, w_nucleo, w_buffer, w_forest])\n",
    "out = widgets.interactive_output(update_priority, {\n",
    "    'w_a_val': w_a, 'w_nucleo_val': w_nucleo, 'w_buffer_val': w_buffer, 'w_forest_val': w_forest\n",
    "})\n",
    "\n",
    "display(ui, out)\n"
   ]
  },
  {
   "cell_type": "code",
   "execution_count": null,
   "id": "cf5ed56d-042f-4d8e-80ed-da91a23ae0d8",
   "metadata": {},
   "outputs": [],
   "source": []
  }
 ],
 "metadata": {
  "kernelspec": {
   "display_name": "Python 3 (ipykernel)",
   "language": "python",
   "name": "python3"
  },
  "language_info": {
   "codemirror_mode": {
    "name": "ipython",
    "version": 3
   },
   "file_extension": ".py",
   "mimetype": "text/x-python",
   "name": "python",
   "nbconvert_exporter": "python",
   "pygments_lexer": "ipython3",
   "version": "3.12.9"
  }
 },
 "nbformat": 4,
 "nbformat_minor": 5
}
